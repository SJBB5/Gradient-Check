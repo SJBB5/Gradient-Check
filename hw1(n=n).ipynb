{
  "nbformat": 4,
  "nbformat_minor": 0,
  "metadata": {
    "colab": {
      "provenance": []
    },
    "kernelspec": {
      "name": "python3",
      "display_name": "Python 3"
    },
    "language_info": {
      "name": "python"
    }
  },
  "cells": [
    {
      "cell_type": "code",
      "source": [
        "pip install benchmarkfcns==2.5.0"
      ],
      "metadata": {
        "colab": {
          "base_uri": "https://localhost:8080/"
        },
        "id": "sDYJsk6rEA_A",
        "outputId": "c15cf7ed-27a9-45d9-f100-26a882984c52"
      },
      "execution_count": null,
      "outputs": [
        {
          "output_type": "stream",
          "name": "stdout",
          "text": [
            "Collecting benchmarkfcns==2.5.0\n",
            "  Downloading benchmarkfcns-2.5.0-cp311-cp311-manylinux_2_17_x86_64.manylinux2014_x86_64.whl.metadata (6.1 kB)\n",
            "Requirement already satisfied: numpy<2,>=1.26 in /usr/local/lib/python3.11/dist-packages (from benchmarkfcns==2.5.0) (1.26.4)\n",
            "Downloading benchmarkfcns-2.5.0-cp311-cp311-manylinux_2_17_x86_64.manylinux2014_x86_64.whl (147 kB)\n",
            "\u001b[2K   \u001b[90m━━━━━━━━━━━━━━━━━━━━━━━━━━━━━━━━━━━━━━━━\u001b[0m \u001b[32m148.0/148.0 kB\u001b[0m \u001b[31m3.7 MB/s\u001b[0m eta \u001b[36m0:00:00\u001b[0m\n",
            "\u001b[?25hInstalling collected packages: benchmarkfcns\n",
            "Successfully installed benchmarkfcns-2.5.0\n"
          ]
        }
      ]
    },
    {
      "cell_type": "code",
      "source": [
        "import torch\n",
        "import matplotlib.pyplot as plt\n",
        "torch.set_default_dtype(torch.float64)\n",
        "from benchmarkfcns import exponential"
      ],
      "metadata": {
        "id": "lqHelRzRrLqY"
      },
      "execution_count": null,
      "outputs": []
    },
    {
      "cell_type": "markdown",
      "source": [
        "Function 1(exponential): $$f(\\mathbf{x})=f(x_1, ..., x_n)=-exp(-0.5\\sum_{i=1}^n{x_i^2})$$\n",
        "\n",
        "\n"
      ],
      "metadata": {
        "id": "kjJQBSgjrDzP"
      }
    },
    {
      "cell_type": "markdown",
      "source": [
        "Gradient Calculation:\n",
        "$$f(\\mathbf{x})=f(x_1, ..., x_n)=-exp(-0.5\\sum_{i=1}^n{x_i^2})$$\n",
        "$$\\sum_{i=1}^n{x_i^2} = ||x||^2$$\n",
        "$$f(\\mathbf{x})= -exp(-.5 * ||x||^2)$$\n",
        "\n",
        "$$\\frac{\\partial f}{\\partial x_i} = -\\exp\\left(-\\frac{1}{2} \\|\\mathbf{x}\\|^2\\right) \\cdot \\frac{d}{dx_i}\\left(-\\frac{1}{2} \\|\\mathbf{x}\\|^2\\right)$$\n",
        "$$\\frac{d}{dx_i}\\left(-\\frac{1}{2} \\|\\mathbf{x}\\|^2\\right) = -x_i$$\n",
        "$$\\nabla f(\\mathbf{x}) = \\exp\\left(-\\frac{1}{2} \\|\\mathbf{x}\\|^2\\right) \\cdot \\mathbf{x}\n",
        "$$\n",
        "\n",
        "Hessian Calculation:\n",
        "\n",
        "$$\n",
        "H(\\mathbf{x}) = \\frac{\\partial}{\\partial \\mathbf{x}} \\left( \\exp\\left(-\\frac{1}{2} \\|\\mathbf{x}\\|^2\\right) \\cdot \\mathbf{x} \\right)\n",
        "$$\n",
        "\n",
        "Using the product rule:\n",
        "$$\n",
        "H(\\mathbf{x}) = \\frac{\\partial}{\\partial \\mathbf{x}} \\left( \\exp\\left(-\\frac{1}{2} \\|\\mathbf{x}\\|^2\\right) \\right) \\cdot \\mathbf{x}^T + \\exp\\left(-\\frac{1}{2} \\|\\mathbf{x}\\|^2\\right) \\cdot I\n",
        "$$\n",
        "\n",
        "\n",
        "\n",
        "The derivative of the exponential term is:\n",
        "$$\n",
        "\\frac{\\partial}{\\partial \\mathbf{x}} \\left( \\exp\\left(-\\frac{1}{2} \\|\\mathbf{x}\\|^2\\right) \\right) = -\\exp\\left(-\\frac{1}{2} \\|\\mathbf{x}\\|^2\\right) \\cdot \\mathbf{x}\n",
        "$$\n",
        "\n",
        "\n",
        "$$\n",
        "H(\\mathbf{x}) = \\exp\\left(-\\frac{1}{2} \\|\\mathbf{x}\\|^2\\right) \\left( I - \\mathbf{x}\\mathbf{x}^T \\right)$$\n"
      ],
      "metadata": {
        "id": "YXh1UPmMuv09"
      }
    },
    {
      "cell_type": "code",
      "source": [
        "# input dimension\n",
        "n = 5\n",
        "\n",
        "#function\n",
        "def f(x):\n",
        "    # print(x.shape)\n",
        "    x2 = x ** 2\n",
        "\n",
        "    scores = -torch.exp(-0.5 * torch.sum(x2))\n",
        "\n",
        "    return scores\n",
        "\n",
        "#gradient\n",
        "def grad_f(x):\n",
        "  # exponential part\n",
        "  exp_part = torch.exp(-0.5 * torch.sum(x ** 2))\n",
        "  # gradient calculation\n",
        "  grad = exp_part * x\n",
        "\n",
        "  return grad\n",
        "\n",
        "#hessian\n",
        "def hes(x):\n",
        "    exp_part = torch.exp(-0.5 * torch.sum(x ** 2))  # scalar factor\n",
        "\n",
        "    dim = x.shape[0]  # number of variables\n",
        "\n",
        "    I = torch.eye(dim, dtype=x.dtype, device=x.device)  # identity matrix\n",
        "\n",
        "    outer_product = torch.matmul(x, x.T)  # outer product: x x^T\n",
        "\n",
        "    H = exp_part * (I - outer_product)  # hessian matrix\n",
        "\n",
        "    return H\n",
        "\n",
        "#gradient using automatic differentiation\n",
        "def grad_f_AD(x):\n",
        "  dim = x.shape[0]\n",
        "  x.requires_grad = True\n",
        "  y = f(x)\n",
        "  dy = torch.autograd.grad(outputs = y, inputs = x, grad_outputs = torch.ones_like(y), create_graph = True)[0]\n",
        "  x = x.detach()\n",
        "  y = y.detach()\n",
        "  dy = dy.detach()\n",
        "  return dy\n",
        "\n",
        "# hessian using automatic differentiation\n",
        "def hes_f_AD(x):\n",
        "  x.requires_grad = True\n",
        "  y = f(x)\n",
        "  dy = torch.autograd.grad(outputs = y, inputs = x, grad_outputs = torch.ones_like(y), create_graph = True)[0]\n",
        "\n",
        "  #initialize hessian\n",
        "  dim = x.shape[0]\n",
        "  H = torch.zeros((dim, dim), dtype=x.dtype, device=x.device)\n",
        "\n",
        "  #identity matrix\n",
        "  I = torch.eye(dim, dtype=x.dtype, device = x.device)\n",
        "\n",
        "  # for loop through identity matrix to compute second derivates\n",
        "  for i in range(dim):\n",
        "    grad_output = I[i].unsqueeze(-1) # make it dim,1 instead of dim\n",
        "    second_grad = torch.autograd.grad(outputs=dy, inputs = x, grad_outputs=grad_output, create_graph=True)[0] # use identity instead of all ones to to compute second derivatives related to each variables\n",
        "    H[i] = second_grad.squeeze()\n",
        "\n",
        "  #detach variables\n",
        "  H = H.detach()\n",
        "  dy = dy.detach()\n",
        "  x = x.detach()\n",
        "\n",
        "  return H\n"
      ],
      "metadata": {
        "id": "0cQZj9-luZa-"
      },
      "execution_count": null,
      "outputs": []
    },
    {
      "cell_type": "code",
      "source": [
        "#test function\n",
        "X = torch.rand(1000, n)\n",
        "\n",
        "f1Out = exponential(X)\n",
        "passed = True\n",
        "\n",
        "for i in range(1000):\n",
        "  f2 = f(X[i])\n",
        "  # print(X[i].shape)\n",
        "  if abs(f1Out[i] - f2) > .0005:\n",
        "    passed = False\n",
        "    print('error')\n",
        "    print(f1Out[i])\n",
        "    #print(X[i])\n",
        "    print(f2)\n",
        "    break\n",
        "if passed:\n",
        "  print('passed')\n"
      ],
      "metadata": {
        "id": "c3F0Sm3iq19r",
        "colab": {
          "base_uri": "https://localhost:8080/"
        },
        "outputId": "dbb340f0-b672-4bdf-a8a6-b8d59f3a725e"
      },
      "execution_count": null,
      "outputs": [
        {
          "output_type": "stream",
          "name": "stdout",
          "text": [
            "passed\n"
          ]
        }
      ]
    },
    {
      "cell_type": "code",
      "source": [
        "dim = n\n",
        "x = torch.randn(dim,1)\n",
        "v = torch.randn_like(x)\n",
        "v = v / torch.norm(v)\n",
        "\n",
        "max_iters = 32\n",
        "h = torch.zeros(max_iters)\n",
        "err0 = torch.zeros(max_iters) # error from zero order T.P.\n",
        "err1 = torch.zeros(max_iters) # error from first order T.P.\n",
        "err2 = torch.zeros(max_iters) # error from second order T.P.\n",
        "\n",
        "for i in range(max_iters):\n",
        "  h[i] = 2**(-i) # iterate h down\n",
        "\n",
        "  #regular way\n",
        "  fv = f(x + h[i]*v)\n",
        "  T0 = f(x)\n",
        "  T1 = T0 + h[i] * (grad_f(x)).T @ v\n",
        "  T2 = T1 + .5*(h[i]**2) * v.T @ hes(x) @ v\n",
        "\n",
        "  #using AD\n",
        "  # fv = f(x+h[i]*v).detach()\n",
        "  # T0 = f(x).detach()\n",
        "  # T1 = T0 + h[i] * (grad_f_AD(x)).T @ v\n",
        "  # T2 = T1 + .5*(h[i]**2) * v.T @ hes_f_AD(x) @ v\n",
        "\n",
        "  err0[i] = torch.norm(fv - T0)\n",
        "  err1[i] = torch.norm(fv - T1)\n",
        "  err2[i] = torch.norm(fv - T2)\n",
        "  print('h: %.3e, \\t err0: %.3e, \\t err1: %.3e, \\t err2: %.3e' % (h[i], err0[i], err1[i], err2[i]))\n",
        "\n",
        "\n",
        "\n"
      ],
      "metadata": {
        "id": "xLaTk4nf5KYi",
        "colab": {
          "base_uri": "https://localhost:8080/"
        },
        "outputId": "8be11717-94fb-4898-b4c8-289875d2bab7"
      },
      "execution_count": null,
      "outputs": [
        {
          "output_type": "stream",
          "name": "stdout",
          "text": [
            "h: 1.000e+00, \t err0: 2.468e-01, \t err1: 3.819e-02, \t err2: 9.444e-02\n",
            "h: 5.000e-01, \t err0: 1.251e-01, \t err1: 2.082e-02, \t err2: 1.234e-02\n",
            "h: 2.500e-01, \t err0: 5.893e-02, \t err1: 6.765e-03, \t err2: 1.525e-03\n",
            "h: 1.250e-01, \t err0: 2.797e-02, \t err1: 1.885e-03, \t err2: 1.876e-04\n",
            "h: 6.250e-02, \t err0: 1.354e-02, \t err1: 4.949e-04, \t err2: 2.320e-05\n",
            "h: 3.125e-02, \t err0: 6.647e-03, \t err1: 1.266e-04, \t err2: 2.882e-06\n",
            "h: 1.562e-02, \t err0: 3.292e-03, \t err1: 3.202e-05, \t err2: 3.591e-07\n",
            "h: 7.812e-03, \t err0: 1.638e-03, \t err1: 8.050e-06, \t err2: 4.482e-08\n",
            "h: 3.906e-03, \t err0: 8.170e-04, \t err1: 2.018e-06, \t err2: 5.598e-09\n",
            "h: 1.953e-03, \t err0: 4.080e-04, \t err1: 5.052e-07, \t err2: 6.994e-10\n",
            "h: 9.766e-04, \t err0: 2.039e-04, \t err1: 1.264e-07, \t err2: 8.741e-11\n",
            "h: 4.883e-04, \t err0: 1.019e-04, \t err1: 3.161e-08, \t err2: 1.092e-11\n",
            "h: 2.441e-04, \t err0: 5.095e-05, \t err1: 7.904e-09, \t err2: 1.366e-12\n",
            "h: 1.221e-04, \t err0: 2.547e-05, \t err1: 1.976e-09, \t err2: 1.706e-13\n",
            "h: 6.104e-05, \t err0: 1.274e-05, \t err1: 4.941e-10, \t err2: 2.143e-14\n",
            "h: 3.052e-05, \t err0: 6.368e-06, \t err1: 1.235e-10, \t err2: 2.720e-15\n",
            "h: 1.526e-05, \t err0: 3.184e-06, \t err1: 3.088e-11, \t err2: 3.331e-16\n",
            "h: 7.629e-06, \t err0: 1.592e-06, \t err1: 7.720e-12, \t err2: 5.551e-17\n",
            "h: 3.815e-06, \t err0: 7.959e-07, \t err1: 1.930e-12, \t err2: 0.000e+00\n",
            "h: 1.907e-06, \t err0: 3.980e-07, \t err1: 4.825e-13, \t err2: 0.000e+00\n",
            "h: 9.537e-07, \t err0: 1.990e-07, \t err1: 1.206e-13, \t err2: 5.551e-17\n",
            "h: 4.768e-07, \t err0: 9.949e-08, \t err1: 3.014e-14, \t err2: 0.000e+00\n",
            "h: 2.384e-07, \t err0: 4.975e-08, \t err1: 7.605e-15, \t err2: 5.551e-17\n",
            "h: 1.192e-07, \t err0: 2.487e-08, \t err1: 1.943e-15, \t err2: 5.551e-17\n",
            "h: 5.960e-08, \t err0: 1.244e-08, \t err1: 4.441e-16, \t err2: 0.000e+00\n",
            "h: 2.980e-08, \t err0: 6.218e-09, \t err1: 5.551e-17, \t err2: 5.551e-17\n",
            "h: 1.490e-08, \t err0: 3.109e-09, \t err1: 5.551e-17, \t err2: 1.110e-16\n",
            "h: 7.451e-09, \t err0: 1.555e-09, \t err1: 5.551e-17, \t err2: 5.551e-17\n",
            "h: 3.725e-09, \t err0: 7.773e-10, \t err1: 5.551e-17, \t err2: 5.551e-17\n",
            "h: 1.863e-09, \t err0: 3.886e-10, \t err1: 5.551e-17, \t err2: 5.551e-17\n",
            "h: 9.313e-10, \t err0: 1.943e-10, \t err1: 5.551e-17, \t err2: 5.551e-17\n",
            "h: 4.657e-10, \t err0: 9.716e-11, \t err1: 1.110e-16, \t err2: 1.110e-16\n"
          ]
        }
      ]
    },
    {
      "cell_type": "code",
      "source": [
        "plt.loglog(h, err0, linewidth = 3)\n",
        "plt.loglog(h, err1, linewidth = 3)\n",
        "plt.loglog(h, err2, linewidth = 3)\n",
        "plt.legend(['$\\|f(x+hv) - T_0(x)\\|$', '$\\|f(x+hv) - T_1(x)\\|$'])\n",
        "plt.xticks(fontsize =15)\n",
        "plt.yticks(fontsize =15)"
      ],
      "metadata": {
        "colab": {
          "base_uri": "https://localhost:8080/",
          "height": 708
        },
        "id": "1rXy_jBPRrEX",
        "outputId": "50d0c2e5-1959-4f9c-86ad-0de885233ec3"
      },
      "execution_count": null,
      "outputs": [
        {
          "output_type": "execute_result",
          "data": {
            "text/plain": [
              "(array([1.e-20, 1.e-18, 1.e-16, 1.e-14, 1.e-12, 1.e-10, 1.e-08, 1.e-06,\n",
              "        1.e-04, 1.e-02, 1.e+00, 1.e+02, 1.e+04]),\n",
              " [Text(0, 1e-20, '$\\\\mathdefault{10^{-20}}$'),\n",
              "  Text(0, 1e-18, '$\\\\mathdefault{10^{-18}}$'),\n",
              "  Text(0, 1e-16, '$\\\\mathdefault{10^{-16}}$'),\n",
              "  Text(0, 1e-14, '$\\\\mathdefault{10^{-14}}$'),\n",
              "  Text(0, 1e-12, '$\\\\mathdefault{10^{-12}}$'),\n",
              "  Text(0, 1e-10, '$\\\\mathdefault{10^{-10}}$'),\n",
              "  Text(0, 1e-08, '$\\\\mathdefault{10^{-8}}$'),\n",
              "  Text(0, 1e-06, '$\\\\mathdefault{10^{-6}}$'),\n",
              "  Text(0, 0.0001, '$\\\\mathdefault{10^{-4}}$'),\n",
              "  Text(0, 0.01, '$\\\\mathdefault{10^{-2}}$'),\n",
              "  Text(0, 1.0, '$\\\\mathdefault{10^{0}}$'),\n",
              "  Text(0, 100.0, '$\\\\mathdefault{10^{2}}$'),\n",
              "  Text(0, 10000.0, '$\\\\mathdefault{10^{4}}$')])"
            ]
          },
          "metadata": {},
          "execution_count": 6
        },
        {
          "output_type": "display_data",
          "data": {
            "text/plain": [
              "<Figure size 640x480 with 1 Axes>"
            ],
            "image/png": "[encoded data removed]"
          },
          "metadata": {}
        }
      ]
    }
  ]
}